{
  "nbformat": 4,
  "nbformat_minor": 0,
  "metadata": {
    "colab": {
      "name": "Copy of OOP-II(w8).ipynb",
      "provenance": []
    },
    "kernelspec": {
      "name": "python3",
      "display_name": "Python 3"
    }
  },
  "cells": [
    {
      "cell_type": "markdown",
      "metadata": {
        "id": "wdHP4ZO3RQlL"
      },
      "source": [
        "OOP-II"
      ]
    },
    {
      "cell_type": "code",
      "metadata": {
        "colab": {
          "base_uri": "https://localhost:8080/"
        },
        "id": "W7dVmeSGRUuB",
        "outputId": "6bd05ccb-99cf-4416-b7a4-20a51acf6048"
      },
      "source": [
        "class Phone:\n",
        "  def call(self):\n",
        "    print(\"we can call\")\n",
        "  def text(self):\n",
        "    print(\"we can text\")\n",
        "class samsung(Phone):\n",
        "  def photo(self):\n",
        "    print(\"we can click photo\")\n",
        "\n",
        "s = samsung()\n",
        "s.call()\n",
        "s.text()\n",
        "s.photo() \n",
        "\n",
        "issubclass(Phone, samsung)\n",
        "\n",
        "\n",
        "\n"
      ],
      "execution_count": null,
      "outputs": [
        {
          "output_type": "stream",
          "text": [
            "we can call\n",
            "we can text\n",
            "we can click photo\n"
          ],
          "name": "stdout"
        },
        {
          "output_type": "execute_result",
          "data": {
            "text/plain": [
              "False"
            ]
          },
          "metadata": {
            "tags": []
          },
          "execution_count": 8
        }
      ]
    },
    {
      "cell_type": "code",
      "metadata": {
        "colab": {
          "base_uri": "https://localhost:8080/"
        },
        "id": "BzSVI9TGWdHP",
        "outputId": "4971f2fe-4666-48fd-e6e3-e2aa80759359"
      },
      "source": [
        "class Computer():\n",
        "  def __init__(self, computer, ram, storage):\n",
        "    self.computer = computer\n",
        "    self.ram = ram\n",
        "    self.storage = storage\n",
        "class Mobile(Computer):\n",
        "  def __init__(self, computer, ram, storage, model):\n",
        "    super().__init__( computer, ram, storage)\n",
        "    self.model = model\n",
        "\n",
        "a = Mobile('Apple', 2, 64, 'iphn x')\n",
        "print(a.computer)\n",
        "print(a.ram)\n"
      ],
      "execution_count": null,
      "outputs": [
        {
          "output_type": "stream",
          "text": [
            "Apple\n",
            "2\n"
          ],
          "name": "stdout"
        }
      ]
    },
    {
      "cell_type": "markdown",
      "metadata": {
        "id": "a32Yw2I-Z5fe"
      },
      "source": [
        "Method Overriding"
      ]
    },
    {
      "cell_type": "code",
      "metadata": {
        "colab": {
          "base_uri": "https://localhost:8080/"
        },
        "id": "z7DmiGXqZ7hw",
        "outputId": "bbc5c467-33a7-476f-eddb-2dfb9d95a968"
      },
      "source": [
        "class Phone:\n",
        "  def __init__(self):\n",
        "    print(\"Hello World\")\n",
        "class samsung(Phone):\n",
        "  def __init__(self):\n",
        "    print(\"Hello\")\n",
        "s = samsung()\n",
        "\n",
        "\n",
        "  \n"
      ],
      "execution_count": null,
      "outputs": [
        {
          "output_type": "stream",
          "text": [
            "Hello\n"
          ],
          "name": "stdout"
        }
      ]
    },
    {
      "cell_type": "code",
      "metadata": {
        "colab": {
          "base_uri": "https://localhost:8080/"
        },
        "id": "hGaIqgbSb0bi",
        "outputId": "e6d45caa-5f33-4097-b3f7-05107148a1f5"
      },
      "source": [
        "class Class1:\n",
        "  def m(self):\n",
        "    print(\"In class1\")\n",
        "class Class2:\n",
        "  def m(self):\n",
        "    print(\"In class2\")\n",
        "class All(Class1, Class2):\n",
        "  def m(self):\n",
        "    print(\"in all class\")\n",
        "    Class1.m(self)\n",
        "    Class2.m(self)\n",
        "\n",
        "obj = All()\n",
        "obj.m()"
      ],
      "execution_count": null,
      "outputs": [
        {
          "output_type": "stream",
          "text": [
            "in all class\n",
            "In class1\n",
            "In class2\n"
          ],
          "name": "stdout"
        }
      ]
    }
  ]
}